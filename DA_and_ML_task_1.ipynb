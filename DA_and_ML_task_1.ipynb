{
  "nbformat": 4,
  "nbformat_minor": 0,
  "metadata": {
    "colab": {
      "provenance": []
    },
    "kernelspec": {
      "name": "python3",
      "display_name": "Python 3"
    },
    "language_info": {
      "name": "python"
    }
  },
  "cells": [
    {
      "cell_type": "markdown",
      "source": [
        "QUESTION 6"
      ],
      "metadata": {
        "id": "5IqOA3WnfLB2"
      }
    },
    {
      "cell_type": "code",
      "execution_count": null,
      "metadata": {
        "colab": {
          "base_uri": "https://localhost:8080/"
        },
        "id": "gJ4UQe33PDaE",
        "outputId": "39a172ca-4b8d-4ac1-9ace-7b6e7f75fa54"
      },
      "outputs": [
        {
          "output_type": "stream",
          "name": "stdout",
          "text": [
            "For numbers_x: First and last numbers are the same: True\n",
            "For numbers_y: First and last numbers are the same: False\n"
          ]
        }
      ],
      "source": [
        "def are_first_and_last_same(numbers):\n",
        "    if len(numbers) > 0:\n",
        "        return numbers[0] == numbers[-1]\n",
        "    else:\n",
        "        return False\n",
        "\n",
        "numbers_x = [10, 20, 30, 40, 10]\n",
        "numbers_y = [75, 65, 35, 75, 30]\n",
        "\n",
        "result_x = are_first_and_last_same(numbers_x)\n",
        "result_y = are_first_and_last_same(numbers_y)\n",
        "\n",
        "print(\"For numbers_x: First and last numbers are the same:\", result_x)\n",
        "print(\"For numbers_y: First and last numbers are the same:\", result_y)\n"
      ]
    },
    {
      "cell_type": "markdown",
      "source": [
        "QUESTION 7"
      ],
      "metadata": {
        "id": "KASfQKlJfocd"
      }
    },
    {
      "cell_type": "code",
      "source": [
        "def print_pattern(num_rows):\n",
        "    current_char = 'A'\n",
        "    current_num = 2\n",
        "    for i in range(num_rows):\n",
        "        if i % 2 == 0:\n",
        "            for j in range(i + 1):\n",
        "                print(current_char, end=' ')\n",
        "                current_char = chr(ord(current_char) + 1)  # Increment the character\n",
        "            print()\n",
        "        else:\n",
        "            for j in range(i + 1):\n",
        "                print(current_num, end=' ')\n",
        "                current_num += 1\n",
        "            print()\n",
        "num_rows = int(input(\"Enter the number of rows: \"))\n",
        "print_pattern(num_rows)\n"
      ],
      "metadata": {
        "colab": {
          "base_uri": "https://localhost:8080/"
        },
        "id": "iickVBNdPNLB",
        "outputId": "ed0feb8d-0658-47f8-e5c5-7fa3c308a532"
      },
      "execution_count": null,
      "outputs": [
        {
          "output_type": "stream",
          "name": "stdout",
          "text": [
            "Enter the number of rows: 5\n",
            "A \n",
            "2 3 \n",
            "B C D \n",
            "4 5 6 7 \n",
            "E F G H I \n"
          ]
        }
      ]
    },
    {
      "cell_type": "markdown",
      "source": [
        "QUESTION 8\n"
      ],
      "metadata": {
        "id": "CNFKtMU2frcA"
      }
    },
    {
      "cell_type": "code",
      "source": [
        "row = int(input('Enter number of rows required: '))\n",
        "for i in range(row):\n",
        "    for j in range(row-i):\n",
        "        print(' ', end='')\n",
        "    for j in range(2*i+1):\n",
        "        if j==0 or j==2*i or i==row-1:\n",
        "            print('*',end='')\n",
        "        else:\n",
        "            print(' ', end='')\n",
        "    print()"
      ],
      "metadata": {
        "colab": {
          "base_uri": "https://localhost:8080/"
        },
        "id": "GINgI97iPNWq",
        "outputId": "fba54253-ea41-41bc-8712-c7d4bf359ccd"
      },
      "execution_count": null,
      "outputs": [
        {
          "output_type": "stream",
          "name": "stdout",
          "text": [
            "Enter number of rows required: 6\n",
            "      *\n",
            "     * *\n",
            "    *   *\n",
            "   *     *\n",
            "  *       *\n",
            " ***********\n"
          ]
        }
      ]
    }
  ]
}