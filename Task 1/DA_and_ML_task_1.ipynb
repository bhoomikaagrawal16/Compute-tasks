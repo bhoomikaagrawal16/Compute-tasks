{
 "cells": [
  {
   "cell_type": "markdown",
   "metadata": {
    "id": "5IqOA3WnfLB2"
   },
   "source": [
    "# QUESTION 6"
   ]
  },
  {
   "cell_type": "code",
   "execution_count": 1,
   "metadata": {
    "colab": {
     "base_uri": "https://localhost:8080/"
    },
    "id": "gJ4UQe33PDaE",
    "outputId": "39a172ca-4b8d-4ac1-9ace-7b6e7f75fa54"
   },
   "outputs": [
    {
     "name": "stdout",
     "output_type": "stream",
     "text": [
      "For numbers_x: First and last numbers are the same: True\n",
      "For numbers_y: First and last numbers are the same: False\n"
     ]
    }
   ],
   "source": [
    "def are_first_and_last_same(numbers):\n",
    "    if len(numbers) > 0:\n",
    "        return numbers[0] == numbers[-1]\n",
    "    else:\n",
    "        return False\n",
    "\n",
    "numbers_x = [10, 20, 30, 40, 10]\n",
    "numbers_y = [75, 65, 35, 75, 30]\n",
    "\n",
    "result_x = are_first_and_last_same(numbers_x)\n",
    "result_y = are_first_and_last_same(numbers_y)\n",
    "\n",
    "print(\"For numbers_x: First and last numbers are the same:\", result_x)\n",
    "print(\"For numbers_y: First and last numbers are the same:\", result_y)\n"
   ]
  },
  {
   "cell_type": "markdown",
   "metadata": {
    "id": "KASfQKlJfocd"
   },
   "source": [
    "# QUESTION 7"
   ]
  },
  {
   "cell_type": "code",
   "execution_count": 2,
   "metadata": {
    "colab": {
     "base_uri": "https://localhost:8080/"
    },
    "id": "iickVBNdPNLB",
    "outputId": "ed0feb8d-0658-47f8-e5c5-7fa3c308a532"
   },
   "outputs": [
    {
     "name": "stdout",
     "output_type": "stream",
     "text": [
      "Enter the number of rows: 6\n",
      "A \n",
      "2 3 \n",
      "B C D \n",
      "4 5 6 7 \n",
      "E F G H I \n",
      "8 9 10 11 12 13 \n"
     ]
    }
   ],
   "source": [
    "def print_pattern(num_rows):\n",
    "    current_char = 'A'\n",
    "    current_num = 2\n",
    "    for i in range(num_rows):\n",
    "        if i % 2 == 0:\n",
    "            for j in range(i + 1):\n",
    "                print(current_char, end=' ')\n",
    "                current_char = chr(ord(current_char) + 1)  # Increment the character\n",
    "            print()\n",
    "        else:\n",
    "            for j in range(i + 1):\n",
    "                print(current_num, end=' ')\n",
    "                current_num += 1\n",
    "            print()\n",
    "num_rows = int(input(\"Enter the number of rows: \"))\n",
    "print_pattern(num_rows)\n"
   ]
  },
  {
   "cell_type": "markdown",
   "metadata": {
    "id": "CNFKtMU2frcA"
   },
   "source": [
    "# QUESTION 8"
   ]
  },
  {
   "cell_type": "code",
   "execution_count": 3,
   "metadata": {
    "colab": {
     "base_uri": "https://localhost:8080/"
    },
    "id": "GINgI97iPNWq",
    "outputId": "fba54253-ea41-41bc-8712-c7d4bf359ccd"
   },
   "outputs": [
    {
     "name": "stdout",
     "output_type": "stream",
     "text": [
      "Enter number of rows required: 6\n",
      "      *\n",
      "     * *\n",
      "    *   *\n",
      "   *     *\n",
      "  *       *\n",
      " ***********\n"
     ]
    }
   ],
   "source": [
    "row = int(input('Enter number of rows required: '))\n",
    "for i in range(row):\n",
    "    for j in range(row-i):\n",
    "        print(' ', end='')\n",
    "    for j in range(2*i+1):\n",
    "        if j==0 or j==2*i or i==row-1:\n",
    "            print('*',end='')\n",
    "        else:\n",
    "            print(' ', end='')\n",
    "    print()"
   ]
  }
 ],
 "metadata": {
  "colab": {
   "provenance": []
  },
  "kernelspec": {
   "display_name": "Python 3 (ipykernel)",
   "language": "python",
   "name": "python3"
  },
  "language_info": {
   "codemirror_mode": {
    "name": "ipython",
    "version": 3
   },
   "file_extension": ".py",
   "mimetype": "text/x-python",
   "name": "python",
   "nbconvert_exporter": "python",
   "pygments_lexer": "ipython3",
   "version": "3.10.12"
  }
 },
 "nbformat": 4,
 "nbformat_minor": 1
}
