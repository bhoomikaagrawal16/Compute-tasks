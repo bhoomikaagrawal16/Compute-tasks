{
  "cells": [
    {
      "cell_type": "markdown",
      "metadata": {
        "id": "view-in-github",
        "colab_type": "text"
      },
      "source": [
        "<a href=\"https://colab.research.google.com/github/bhoomikaagrawal16/Compute-tasks/blob/main/Task2/Task_2_Numpy.ipynb\" target=\"_parent\"><img src=\"https://colab.research.google.com/assets/colab-badge.svg\" alt=\"Open In Colab\"/></a>"
      ]
    },
    {
      "cell_type": "markdown",
      "metadata": {
        "id": "X7z3U2pxCAvN"
      },
      "source": [
        "#### Import NumPy"
      ]
    },
    {
      "cell_type": "code",
      "execution_count": 2,
      "metadata": {
        "collapsed": true,
        "id": "jusgfjcDCAvN"
      },
      "outputs": [],
      "source": [
        "import numpy as np"
      ]
    },
    {
      "cell_type": "markdown",
      "metadata": {
        "id": "5qcAR8--CAvN"
      },
      "source": [
        "#### Create an array of 10 zeros"
      ]
    },
    {
      "cell_type": "code",
      "execution_count": 8,
      "metadata": {
        "id": "xmEjfwcGCAvO",
        "outputId": "ddb3079b-aa4a-45d4-b922-6b1125bcdbc5",
        "colab": {
          "base_uri": "https://localhost:8080/"
        }
      },
      "outputs": [
        {
          "output_type": "stream",
          "name": "stdout",
          "text": [
            "[0. 0. 0. 0. 0. 0. 0. 0. 0. 0.]\n"
          ]
        }
      ],
      "source": [
        "zero = np.zeros(10)\n",
        "print(zero)"
      ]
    },
    {
      "cell_type": "markdown",
      "metadata": {
        "id": "-sJqSut2CAvO"
      },
      "source": [
        "#### Create an array of 10 ones"
      ]
    },
    {
      "cell_type": "code",
      "execution_count": 9,
      "metadata": {
        "id": "hecGx7cECAvO",
        "outputId": "51149166-8c41-4a14-d15a-61d300dd8500",
        "colab": {
          "base_uri": "https://localhost:8080/"
        }
      },
      "outputs": [
        {
          "output_type": "stream",
          "name": "stdout",
          "text": [
            "[1. 1. 1. 1. 1. 1. 1. 1. 1. 1.]\n"
          ]
        }
      ],
      "source": [
        "one = np.ones(10)\n",
        "print(one)"
      ]
    },
    {
      "cell_type": "markdown",
      "metadata": {
        "id": "ARYEHlU5CAvO"
      },
      "source": [
        "#### Create an array of 10 fives"
      ]
    },
    {
      "cell_type": "code",
      "execution_count": 11,
      "metadata": {
        "id": "y-1rWnr7CAvP",
        "outputId": "1ccf2f08-061b-4548-bb5b-366789110ece",
        "colab": {
          "base_uri": "https://localhost:8080/"
        }
      },
      "outputs": [
        {
          "output_type": "stream",
          "name": "stdout",
          "text": [
            "[5. 5. 5. 5. 5. 5. 5. 5. 5. 5.]\n"
          ]
        }
      ],
      "source": [
        "five = np.ones(10)*5\n",
        "print(five)"
      ]
    },
    {
      "cell_type": "markdown",
      "metadata": {
        "id": "7IROlwxJCAvP"
      },
      "source": [
        "#### Create an array of the integers from 10 to 50 -!del!-"
      ]
    },
    {
      "cell_type": "code",
      "execution_count": 25,
      "metadata": {
        "id": "UFwQhJT8CAvP",
        "outputId": "f8cb5854-4d0a-4ac5-fc8f-a44e0eb161ec",
        "colab": {
          "base_uri": "https://localhost:8080/"
        }
      },
      "outputs": [
        {
          "output_type": "stream",
          "name": "stdout",
          "text": [
            "[10, 11, 12, 13, 14, 15, 16, 17, 18, 19, 20, 21, 22, 23, 24, 25, 26, 27, 28, 29, 30, 31, 32, 33, 34, 35, 36, 37, 38, 39, 40, 41, 42, 43, 44, 45, 46, 47, 48, 49, 50]\n"
          ]
        }
      ],
      "source": [
        "arr = []\n",
        "for i in range(10,51):\n",
        "   arr.append(i)\n",
        "print(arr)"
      ]
    },
    {
      "cell_type": "markdown",
      "metadata": {
        "id": "wxoKdt6aCAvP"
      },
      "source": [
        "#### Create an array of all the even integers from 10 to 50  -!del!-"
      ]
    },
    {
      "cell_type": "code",
      "execution_count": 24,
      "metadata": {
        "id": "7Ix-9XyZCAvP",
        "outputId": "99e26dfb-d679-4d90-b7ad-399de596eef7",
        "colab": {
          "base_uri": "https://localhost:8080/"
        }
      },
      "outputs": [
        {
          "output_type": "stream",
          "name": "stdout",
          "text": [
            "[10, 12, 14, 16, 18, 20, 22, 24, 26, 28, 30, 32, 34, 36, 38, 40, 42, 44, 46, 48, 50]\n"
          ]
        }
      ],
      "source": [
        "arr2 = []\n",
        "for i in range(10,51,2):\n",
        "   arr2.append(i)\n",
        "print(arr2)"
      ]
    },
    {
      "cell_type": "markdown",
      "metadata": {
        "id": "0jPx7PpWCAvP"
      },
      "source": [
        "#### Create a 3x3 matrix with values ranging from 0 to 8"
      ]
    },
    {
      "cell_type": "code",
      "execution_count": 28,
      "metadata": {
        "id": "vLtfhOdwCAvP",
        "outputId": "c1f9f13b-a64c-450b-9ba1-7be10868bb05",
        "colab": {
          "base_uri": "https://localhost:8080/"
        }
      },
      "outputs": [
        {
          "output_type": "stream",
          "name": "stdout",
          "text": [
            "[[0 1 2]\n",
            " [3 4 5]\n",
            " [6 7 8]]\n"
          ]
        }
      ],
      "source": [
        "arr3 = np.array([[0,1,2],\n",
        "             [3,4,5],\n",
        "             [6,7,8]])\n",
        "print(arr3)"
      ]
    },
    {
      "cell_type": "markdown",
      "metadata": {
        "id": "JcO95k-XCAvQ"
      },
      "source": [
        "#### Create a 3x3 identity matrix"
      ]
    },
    {
      "cell_type": "code",
      "execution_count": 30,
      "metadata": {
        "id": "JPVEIdl3CAvQ",
        "outputId": "262b3e82-f0d6-4c04-e748-ca313537b25a",
        "colab": {
          "base_uri": "https://localhost:8080/"
        }
      },
      "outputs": [
        {
          "output_type": "stream",
          "name": "stdout",
          "text": [
            "[[1. 0. 0.]\n",
            " [0. 1. 0.]\n",
            " [0. 0. 1.]]\n"
          ]
        }
      ],
      "source": [
        "arr4 = np.identity(3)\n",
        "print(arr4)"
      ]
    },
    {
      "cell_type": "markdown",
      "metadata": {
        "id": "Sn7Hj9KyCAvQ"
      },
      "source": [
        "#### Use NumPy to generate a random number between 0 and 1  -!del!-"
      ]
    },
    {
      "cell_type": "code",
      "execution_count": 33,
      "metadata": {
        "id": "jjB53PpTCAvQ",
        "outputId": "db5eeaa9-d347-4002-a1dc-301b75b17dea",
        "colab": {
          "base_uri": "https://localhost:8080/"
        }
      },
      "outputs": [
        {
          "output_type": "stream",
          "name": "stdout",
          "text": [
            "0.7161883277992012\n"
          ]
        }
      ],
      "source": [
        "a = np.random.rand()\n",
        "print(a)"
      ]
    },
    {
      "cell_type": "markdown",
      "metadata": {
        "id": "xAn14oziCAvQ"
      },
      "source": [
        "#### Use NumPy to generate an array of 25 random numbers sampled from a standard normal distribution"
      ]
    },
    {
      "cell_type": "code",
      "execution_count": 37,
      "metadata": {
        "id": "MIeS99CiCAvQ",
        "outputId": "89ccf42d-703b-4dc8-fe27-533a3bd7622e",
        "colab": {
          "base_uri": "https://localhost:8080/"
        }
      },
      "outputs": [
        {
          "output_type": "stream",
          "name": "stdout",
          "text": [
            "[-1.07062365  1.46258895 -0.06167136 -0.51362104 -1.61577889  1.36849654\n",
            "  1.35039846  1.69227126 -0.36701228 -1.12134132  1.91040342 -0.19010808\n",
            " -0.42118274  0.74234241  0.09506584 -0.82467509 -0.09246482 -0.54619366\n",
            "  1.22263841 -1.23008258  0.20786221 -0.84823968  0.55661868  0.04992423\n",
            "  0.26774295]\n"
          ]
        }
      ],
      "source": [
        "b = np.random.randn(25)\n",
        "print(b)"
      ]
    },
    {
      "cell_type": "markdown",
      "metadata": {
        "id": "LbRgd6OyCAvQ"
      },
      "source": [
        "#### Create the following matrix: -!del!-"
      ]
    },
    {
      "cell_type": "code",
      "execution_count": 38,
      "metadata": {
        "id": "AENeDra9CAvR",
        "outputId": "76d0656c-348d-4ca9-e602-fb688de26265",
        "colab": {
          "base_uri": "https://localhost:8080/"
        }
      },
      "outputs": [
        {
          "output_type": "stream",
          "name": "stdout",
          "text": [
            "[[0.01 0.02 0.03 0.04 0.05 0.06 0.07 0.08 0.09 0.1 ]\n",
            " [0.11 0.12 0.13 0.14 0.15 0.16 0.17 0.18 0.19 0.2 ]\n",
            " [0.21 0.22 0.23 0.24 0.25 0.26 0.27 0.28 0.29 0.3 ]\n",
            " [0.31 0.32 0.33 0.34 0.35 0.36 0.37 0.38 0.39 0.4 ]\n",
            " [0.41 0.42 0.43 0.44 0.45 0.46 0.47 0.48 0.49 0.5 ]\n",
            " [0.51 0.52 0.53 0.54 0.55 0.56 0.57 0.58 0.59 0.6 ]\n",
            " [0.61 0.62 0.63 0.64 0.65 0.66 0.67 0.68 0.69 0.7 ]\n",
            " [0.71 0.72 0.73 0.74 0.75 0.76 0.77 0.78 0.79 0.8 ]\n",
            " [0.81 0.82 0.83 0.84 0.85 0.86 0.87 0.88 0.89 0.9 ]\n",
            " [0.91 0.92 0.93 0.94 0.95 0.96 0.97 0.98 0.99 1.  ]]\n"
          ]
        }
      ],
      "source": [
        "c = np.arange(0.01, 1.01, 0.01).reshape(10, 10)\n",
        "print(c)"
      ]
    },
    {
      "cell_type": "markdown",
      "metadata": {
        "id": "QBZWHYOFCAvR"
      },
      "source": [
        "#### Create an array of 20 linearly spaced points between 0 and 1:"
      ]
    },
    {
      "cell_type": "code",
      "execution_count": 40,
      "metadata": {
        "id": "3ra8KFjgCAvR",
        "outputId": "5382f832-96cc-4aee-be7f-a7b9ad1f1478",
        "colab": {
          "base_uri": "https://localhost:8080/"
        }
      },
      "outputs": [
        {
          "output_type": "stream",
          "name": "stdout",
          "text": [
            "[0.         0.05263158 0.10526316 0.15789474 0.21052632 0.26315789\n",
            " 0.31578947 0.36842105 0.42105263 0.47368421 0.52631579 0.57894737\n",
            " 0.63157895 0.68421053 0.73684211 0.78947368 0.84210526 0.89473684\n",
            " 0.94736842 1.        ]\n"
          ]
        }
      ],
      "source": [
        "d = np.linspace(0,1,20)\n",
        "print(d)"
      ]
    },
    {
      "cell_type": "markdown",
      "metadata": {
        "id": "WDFRH7mRCAvR"
      },
      "source": [
        "## Numpy Indexing and Selection\n",
        "\n",
        "Now you will be given a few matrices, and be asked to replicate the resulting matrix outputs:"
      ]
    },
    {
      "cell_type": "code",
      "execution_count": 61,
      "metadata": {
        "id": "B_2McpqmCAvR",
        "outputId": "cc9546b6-8a5a-4145-ef58-6b3bdcc2b247",
        "colab": {
          "base_uri": "https://localhost:8080/"
        }
      },
      "outputs": [
        {
          "output_type": "execute_result",
          "data": {
            "text/plain": [
              "array([[ 1,  2,  3,  4,  5],\n",
              "       [ 6,  7,  8,  9, 10],\n",
              "       [11, 12, 13, 14, 15],\n",
              "       [16, 17, 18, 19, 20],\n",
              "       [21, 22, 23, 24, 25]])"
            ]
          },
          "metadata": {},
          "execution_count": 61
        }
      ],
      "source": [
        "mat = np.arange(1,26).reshape(5,5)\n",
        "mat"
      ]
    },
    {
      "cell_type": "code",
      "execution_count": 51,
      "metadata": {
        "id": "V_GnVZsBCAvR",
        "outputId": "2dcd9607-9439-4388-95d5-dcaca7722a2c",
        "colab": {
          "base_uri": "https://localhost:8080/"
        }
      },
      "outputs": [
        {
          "output_type": "stream",
          "name": "stdout",
          "text": [
            "[[12 13 14 15]\n",
            " [17 18 19 20]\n",
            " [22 23 24 25]]\n"
          ]
        }
      ],
      "source": [
        "mat2 = mat[2:5,1:5]\n",
        "print(mat2)"
      ]
    },
    {
      "cell_type": "code",
      "execution_count": 54,
      "metadata": {
        "id": "M9CB9jd2CAvS",
        "outputId": "80a41ac8-203d-4823-b4be-d3c9e7ebe07e",
        "colab": {
          "base_uri": "https://localhost:8080/"
        }
      },
      "outputs": [
        {
          "output_type": "stream",
          "name": "stdout",
          "text": [
            "20\n"
          ]
        }
      ],
      "source": [
        "mat3 = mat2[1,3]\n",
        "print(mat3)"
      ]
    },
    {
      "cell_type": "code",
      "execution_count": 62,
      "metadata": {
        "collapsed": true,
        "id": "5qPTLISjCAvS",
        "colab": {
          "base_uri": "https://localhost:8080/"
        },
        "outputId": "f5a5d710-fff6-4ea1-bf41-e6dfd598133c"
      },
      "outputs": [
        {
          "output_type": "stream",
          "name": "stdout",
          "text": [
            "[[ 2]\n",
            " [ 7]\n",
            " [12]]\n"
          ]
        }
      ],
      "source": [
        "mat4 = mat[0:3,1].reshape(3,1)\n",
        "print(mat4)"
      ]
    },
    {
      "cell_type": "code",
      "execution_count": 64,
      "metadata": {
        "collapsed": true,
        "id": "rQr3hBL6CAvS",
        "colab": {
          "base_uri": "https://localhost:8080/"
        },
        "outputId": "f2030615-125b-4249-8d12-44a26a6cc32f"
      },
      "outputs": [
        {
          "output_type": "stream",
          "name": "stdout",
          "text": [
            "[21 22 23 24 25]\n"
          ]
        }
      ],
      "source": [
        "mat5 = mat[4]\n",
        "print(mat5)"
      ]
    },
    {
      "cell_type": "code",
      "execution_count": 66,
      "metadata": {
        "collapsed": true,
        "id": "ZRQgDH79CAvS",
        "colab": {
          "base_uri": "https://localhost:8080/"
        },
        "outputId": "552ed9b8-e9ac-4e1e-c316-c440b64e699b"
      },
      "outputs": [
        {
          "output_type": "stream",
          "name": "stdout",
          "text": [
            "[[16 17 18 19 20]\n",
            " [21 22 23 24 25]]\n"
          ]
        }
      ],
      "source": [
        "mat6 = mat[3:5]\n",
        "print(mat6)"
      ]
    },
    {
      "cell_type": "markdown",
      "metadata": {
        "id": "Ih6-cRw_CAvT"
      },
      "source": [
        "### Now do the following"
      ]
    },
    {
      "cell_type": "markdown",
      "metadata": {
        "id": "Mi-WfNJOCAvT"
      },
      "source": [
        "#### Get the sum of all the values in mat"
      ]
    },
    {
      "cell_type": "code",
      "execution_count": 67,
      "metadata": {
        "id": "T6SjcnWPCAvT",
        "outputId": "808e305b-4d2a-423a-c111-b6e815addf9f",
        "colab": {
          "base_uri": "https://localhost:8080/"
        }
      },
      "outputs": [
        {
          "output_type": "stream",
          "name": "stdout",
          "text": [
            "325\n"
          ]
        }
      ],
      "source": [
        "sum = np.sum(mat)\n",
        "print(sum)"
      ]
    },
    {
      "cell_type": "markdown",
      "metadata": {
        "id": "PwZD2RewCAvT"
      },
      "source": [
        "#### Get the standard deviation of the values in mat"
      ]
    },
    {
      "cell_type": "code",
      "execution_count": 68,
      "metadata": {
        "id": "MxnOj36BCAvT",
        "outputId": "f1666045-8d12-4508-ecee-7f85ddc4dfec",
        "colab": {
          "base_uri": "https://localhost:8080/"
        }
      },
      "outputs": [
        {
          "output_type": "stream",
          "name": "stdout",
          "text": [
            "7.211102550927978\n"
          ]
        }
      ],
      "source": [
        "sd = np.std(mat)\n",
        "print(sd)"
      ]
    },
    {
      "cell_type": "markdown",
      "metadata": {
        "id": "zO38BgXWCAvU"
      },
      "source": [
        "#### Get the sum of all the columns in mat"
      ]
    },
    {
      "cell_type": "code",
      "execution_count": 70,
      "metadata": {
        "id": "BBJ0PLt5CAvU",
        "outputId": "77e512fb-51b7-44d2-d692-2fb309c800e9",
        "colab": {
          "base_uri": "https://localhost:8080/"
        }
      },
      "outputs": [
        {
          "output_type": "stream",
          "name": "stdout",
          "text": [
            "[55 60 65 70 75]\n"
          ]
        }
      ],
      "source": [
        "sc = np.sum(mat,axis = 0)\n",
        "print(sc)"
      ]
    },
    {
      "cell_type": "markdown",
      "source": [
        "#### Multiply two matrices using NumPy.\n",
        "\n",
        "A = [[1, 2], [2, 3]]\n",
        "\n",
        "B = [[4, 5], [6, 7]]\n",
        "\n",
        "So, A.B = [[1*4 + 2*6, 2*4 + 3*6], [1*5 + 2*7, 2*5 + 3*7]\n",
        "\n",
        "The computed answer will be: [[16, 26], [19, 31]]\n"
      ],
      "metadata": {
        "id": "AmoYw9QoljOW"
      }
    },
    {
      "cell_type": "code",
      "source": [
        "A = [[1, 2], [2, 3]]\n",
        "\n",
        "B = [[4, 5], [6, 7]]\n",
        "print(np.matmul(A,B))"
      ],
      "metadata": {
        "id": "TlwnfZgYlzsQ",
        "colab": {
          "base_uri": "https://localhost:8080/"
        },
        "outputId": "8b65a9f3-6077-4d21-ac14-7af5930ebe49"
      },
      "execution_count": 71,
      "outputs": [
        {
          "output_type": "stream",
          "name": "stdout",
          "text": [
            "[[16 19]\n",
            " [26 31]]\n"
          ]
        }
      ]
    },
    {
      "cell_type": "markdown",
      "source": [
        "####Replace NaN values with average of that column\n",
        "\n",
        "Initial array :  \n",
        "\n",
        "[[ 1.3  2.5  3.6  nan]\n",
        " [ 2.6  3.3  nan  5.5]\n",
        " [ 2.1  3.2  5.4  6.5]]\n"
      ],
      "metadata": {
        "id": "0bNmuR33mE10"
      }
    },
    {
      "cell_type": "code",
      "source": [
        "array = [[1.3,2.5, 3.6, np.nan],\n",
        "         [2.6, 3.3, np.nan, 5.5],\n",
        "         [2.1, 3.2, 5.4, 6.5]]\n",
        "array = np.nan_to_num(array,nan=np.nanmean(array,axis=0))\n",
        "print(array)"
      ],
      "metadata": {
        "id": "2lXzmm6EmRwN",
        "colab": {
          "base_uri": "https://localhost:8080/"
        },
        "outputId": "5da0049d-29ce-494d-d935-16ea2fd0dba7"
      },
      "execution_count": 91,
      "outputs": [
        {
          "output_type": "stream",
          "name": "stdout",
          "text": [
            "[[1.3 2.5 3.6 6. ]\n",
            " [2.6 3.3 4.5 5.5]\n",
            " [2.1 3.2 5.4 6.5]]\n"
          ]
        }
      ]
    },
    {
      "cell_type": "markdown",
      "metadata": {
        "collapsed": true,
        "id": "GiRsFFT_CAvU"
      },
      "source": [
        "# You're done!"
      ]
    }
  ],
  "metadata": {
    "kernelspec": {
      "display_name": "Python 3",
      "language": "python",
      "name": "python3"
    },
    "language_info": {
      "codemirror_mode": {
        "name": "ipython",
        "version": 3
      },
      "file_extension": ".py",
      "mimetype": "text/x-python",
      "name": "python",
      "nbconvert_exporter": "python",
      "pygments_lexer": "ipython3",
      "version": "3.5.1"
    },
    "colab": {
      "provenance": [],
      "include_colab_link": true
    }
  },
  "nbformat": 4,
  "nbformat_minor": 0
}
